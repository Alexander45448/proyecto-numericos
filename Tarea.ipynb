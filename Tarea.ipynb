{
 "cells": [
  {
   "cell_type": "markdown",
   "id": "1507fcac",
   "metadata": {},
   "source": [
    "# *Tema: Descenso de Gradiente (Gradient Descent).*"
   ]
  },
  {
   "cell_type": "markdown",
   "id": "bcda64fa",
   "metadata": {},
   "source": [
    "## *Grupo $\\beta$* "
   ]
  },
  {
   "cell_type": "markdown",
   "id": "9fb6e1ec",
   "metadata": {},
   "source": [
    "### *Integrantes:*"
   ]
  },
  {
   "cell_type": "markdown",
   "id": "a503ba76",
   "metadata": {},
   "source": [
    "*1.Carmen Elisa Lopez Alvarado 0000100619*\n"
   ]
  },
  {
   "cell_type": "markdown",
   "id": "d321051e",
   "metadata": {},
   "source": [
    "*2.Rodrigo Antonio Ungo Muñoz 00075419*\n"
   ]
  },
  {
   "cell_type": "markdown",
   "id": "4f794120",
   "metadata": {},
   "source": [
    "*3.Dennys Alberto Rivera Pascasio 00026919*"
   ]
  },
  {
   "cell_type": "markdown",
   "id": "82ef1a01",
   "metadata": {},
   "source": [
    "*4.Alexander Ernesto Menéndez Navarrete 00098818*"
   ]
  },
  {
   "cell_type": "markdown",
   "id": "a52d6391",
   "metadata": {},
   "source": [
    "## *Definicion*"
   ]
  },
  {
   "cell_type": "markdown",
   "id": "9d050527",
   "metadata": {},
   "source": [
    "El descenso de gradiente es un algoritmo de uso general que numéricamente encuentra un mínimo de funciones multivariables, donde una función genera sus valores más bajos. Eso significa que encuentra mínimos locales, pero no al establecer $\\nabla$$f$=0. En lugar de encontrar mínimos manipulando símbolos, el descenso de gradiente aproxima la solución con números."
   ]
  },
  {
   "cell_type": "markdown",
   "id": "baa5ca20",
   "metadata": {},
   "source": [
    "![graf](Downloads/graf.jpeg)"
   ]
  },
  {
   "cell_type": "code",
   "execution_count": null,
   "id": "8ccab3aa",
   "metadata": {},
   "outputs": [],
   "source": []
  }
 ],
 "metadata": {
  "kernelspec": {
   "display_name": "Python 3",
   "language": "python",
   "name": "python3"
  },
  "language_info": {
   "codemirror_mode": {
    "name": "ipython",
    "version": 3
   },
   "file_extension": ".py",
   "mimetype": "text/x-python",
   "name": "python",
   "nbconvert_exporter": "python",
   "pygments_lexer": "ipython3",
   "version": "3.8.8"
  }
 },
 "nbformat": 4,
 "nbformat_minor": 5
}
