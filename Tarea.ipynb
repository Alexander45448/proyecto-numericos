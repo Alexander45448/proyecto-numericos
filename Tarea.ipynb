{
 "cells": [
  {
   "cell_type": "markdown",
   "id": "b415073e",
   "metadata": {},
   "source": [
    "# Tema: Descenso de Gradiente (Gradient Descent.)."
   ]
  },
  {
   "cell_type": "markdown",
   "id": "9100a9f8",
   "metadata": {},
   "source": [
    "## Grupo $\\beta$ "
   ]
  },
  {
   "cell_type": "markdown",
   "id": "bf36ca62",
   "metadata": {},
   "source": [
    "### Integrantes:"
   ]
  },
  {
   "cell_type": "markdown",
   "id": "00a1c35b",
   "metadata": {},
   "source": [
    "*1. Carmen Elisa Lopez Alvarado 0000100619*\n"
   ]
  },
  {
   "cell_type": "markdown",
   "id": "f12e4b5e",
   "metadata": {},
   "source": [
    "*2. Rodrigo Antonio Ungo Muñoz 00075419*\n"
   ]
  },
  {
   "cell_type": "markdown",
   "id": "a9c0593c",
   "metadata": {},
   "source": [
    "*3. Dennys Alberto Rivera Pascasio 00026919*"
   ]
  },
  {
   "cell_type": "markdown",
   "id": "fe24567b",
   "metadata": {},
   "source": [
    "*4. Alexander Ernesto Menéndez Navarrete 00098818*"
   ]
  },
  {
   "cell_type": "markdown",
   "id": "d79a68b8",
   "metadata": {},
   "source": [
    "## Definicion"
   ]
  },
  {
   "cell_type": "markdown",
   "id": "c8bec12e",
   "metadata": {},
   "source": [
    "El descenso de gradiente es un algoritmo de uso general que numéricamente encuentra un mínimo de funciones multivariables, donde una función genera sus valores más bajos. Eso significa que encuentra mínimos locales, pero no al establecer $\\nabla$$f$=0. En lugar de encontrar mínimos manipulando símbolos, el descenso de gradiente aproxima la solución con números."
   ]
  },
  {
   "cell_type": "markdown",
   "id": "731dee42",
   "metadata": {},
   "source": [
    "![graf](Downloads/graf.jpeg)"
   ]
  },
  {
   "cell_type": "code",
   "execution_count": null,
   "id": "bbebc53f",
   "metadata": {},
   "outputs": [],
   "source": []
  }
 ],
 "metadata": {
  "kernelspec": {
   "display_name": "Python 3",
   "language": "python",
   "name": "python3"
  },
  "language_info": {
   "codemirror_mode": {
    "name": "ipython",
    "version": 3
   },
   "file_extension": ".py",
   "mimetype": "text/x-python",
   "name": "python",
   "nbconvert_exporter": "python",
   "pygments_lexer": "ipython3",
   "version": "3.8.8"
  }
 },
 "nbformat": 4,
 "nbformat_minor": 5
}
